{
 "cells": [
  {
   "cell_type": "code",
   "execution_count": null,
   "id": "b7866a83",
   "metadata": {},
   "outputs": [],
   "source": [
    "# Import\n",
    "import pandas as pd\n",
    "from sklearn.feature_extraction.text import TfidfVectorizer\n",
    "from sklearn.metrics.pairwise import linear_kernel\n",
    "\n",
    "df = pd.read_csv('')"
   ]
  },
  {
   "cell_type": "code",
   "execution_count": null,
   "id": "c79c7ac7",
   "metadata": {},
   "outputs": [],
   "source": [
    "# Explore\n",
    "print(df.shape)\n",
    "df.isna().sum()"
   ]
  },
  {
   "cell_type": "code",
   "execution_count": null,
   "id": "7425d996",
   "metadata": {},
   "outputs": [],
   "source": [
    "# Data Cleaning if needed\n",
    "\n",
    "# df.reset_index(inplace=True) if id is set as index value before line is ran"
   ]
  },
  {
   "cell_type": "code",
   "execution_count": null,
   "id": "f28aea45",
   "metadata": {},
   "outputs": [],
   "source": [
    "# Modeling\n",
    "# May need to add our own dictionary\n",
    "# Create a TfidfVectorizer and Remove stopwords\n",
    "tfidf = TfidfVectorizer(stop_words='english')\n",
    "        \n",
    "# Fit and transform the data to a tfidf matrix\n",
    "tfidf_matrix = tfidf.fit_transform(df_articles['text'])\n",
    "        \n",
    "# Print the shape of the tfidf_matrix\n",
    "print(tfidf_matrix.shape)"
   ]
  },
  {
   "cell_type": "code",
   "execution_count": null,
   "id": "da12180f",
   "metadata": {},
   "outputs": [],
   "source": [
    "# Deployment\n",
    "# Compute the cosine similarity between each movie description\n",
    "cosine_sim = linear_kernel(tfidf_matrix, tfidf_matrix)\n",
    "      \n",
    "# For easier viewing, put it in a dataframe\n",
    "pd.DataFrame(cosine_sim)\n",
    "\n",
    "df_results = pd.DataFrame(cosine_sim, columns=df['Id'], index=df_articles['Id']) #.sort_values(by=[0], ascending=False)\n",
    "\n",
    "df_results.to_csv('content_recs.csv')"
   ]
  },
  {
   "cell_type": "code",
   "execution_count": null,
   "id": "d8d13a4c",
   "metadata": {},
   "outputs": [],
   "source": []
  }
 ],
 "metadata": {
  "kernelspec": {
   "display_name": "Python 3",
   "language": "python",
   "name": "python3"
  },
  "language_info": {
   "codemirror_mode": {
    "name": "ipython",
    "version": 3
   },
   "file_extension": ".py",
   "mimetype": "text/x-python",
   "name": "python",
   "nbconvert_exporter": "python",
   "pygments_lexer": "ipython3",
   "version": "3.12.1"
  }
 },
 "nbformat": 4,
 "nbformat_minor": 5
}
