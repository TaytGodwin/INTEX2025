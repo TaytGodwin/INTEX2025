{
 "cells": [
  {
   "cell_type": "code",
   "execution_count": 59,
   "id": "055801a8",
   "metadata": {},
   "outputs": [],
   "source": [
    "# Import\n",
    "import pandas as pd\n",
    "\n",
    "df_ratings = pd.read_csv('movies_ratings.csv')\n",
    "df_titles = pd.read_csv('movies_titles.csv')\n",
    "df_users = pd.read_csv('movies_users.csv')"
   ]
  },
  {
   "cell_type": "code",
   "execution_count": 60,
   "id": "7c05cd07",
   "metadata": {},
   "outputs": [],
   "source": [
    "df_titles.drop('director', axis=1, inplace=True)\n",
    "df_titles.dropna(inplace=True)\n",
    "df_ratings = df_ratings[df_ratings['show_id'].isin(df_titles['show_id'])]"
   ]
  },
  {
   "cell_type": "markdown",
   "id": "76fe055e",
   "metadata": {},
   "source": [
    "#### Genre vectorization"
   ]
  },
  {
   "cell_type": "code",
   "execution_count": 61,
   "id": "1c8aecb2",
   "metadata": {},
   "outputs": [
    {
     "data": {
      "text/html": [
       "<div>\n",
       "<style scoped>\n",
       "    .dataframe tbody tr th:only-of-type {\n",
       "        vertical-align: middle;\n",
       "    }\n",
       "\n",
       "    .dataframe tbody tr th {\n",
       "        vertical-align: top;\n",
       "    }\n",
       "\n",
       "    .dataframe thead th {\n",
       "        text-align: right;\n",
       "    }\n",
       "</style>\n",
       "<table border=\"1\" class=\"dataframe\">\n",
       "  <thead>\n",
       "    <tr style=\"text-align: right;\">\n",
       "      <th></th>\n",
       "      <th>title</th>\n",
       "      <th>show_id</th>\n",
       "    </tr>\n",
       "  </thead>\n",
       "  <tbody>\n",
       "    <tr>\n",
       "      <th>40</th>\n",
       "      <td>Numberblocks</td>\n",
       "      <td>s66</td>\n",
       "    </tr>\n",
       "    <tr>\n",
       "      <th>56</th>\n",
       "      <td>Octonauts: Above &amp; Beyond</td>\n",
       "      <td>s99</td>\n",
       "    </tr>\n",
       "    <tr>\n",
       "      <th>59</th>\n",
       "      <td>Tayo the Little Bus</td>\n",
       "      <td>s105</td>\n",
       "    </tr>\n",
       "    <tr>\n",
       "      <th>65</th>\n",
       "      <td>Sharkdog</td>\n",
       "      <td>s112</td>\n",
       "    </tr>\n",
       "    <tr>\n",
       "      <th>72</th>\n",
       "      <td>Pororo - The Little Penguin</td>\n",
       "      <td>s125</td>\n",
       "    </tr>\n",
       "    <tr>\n",
       "      <th>95</th>\n",
       "      <td>Kid-E-Cats</td>\n",
       "      <td>s154</td>\n",
       "    </tr>\n",
       "    <tr>\n",
       "      <th>155</th>\n",
       "      <td>Go! Go! Cory Carson</td>\n",
       "      <td>s255</td>\n",
       "    </tr>\n",
       "    <tr>\n",
       "      <th>157</th>\n",
       "      <td>Mother Goose Club</td>\n",
       "      <td>s264</td>\n",
       "    </tr>\n",
       "    <tr>\n",
       "      <th>162</th>\n",
       "      <td>Winx Club</td>\n",
       "      <td>s270</td>\n",
       "    </tr>\n",
       "    <tr>\n",
       "      <th>164</th>\n",
       "      <td>Fast &amp; Furious Spy Racers</td>\n",
       "      <td>s273</td>\n",
       "    </tr>\n",
       "  </tbody>\n",
       "</table>\n",
       "</div>"
      ],
      "text/plain": [
       "                           title show_id\n",
       "40                  Numberblocks     s66\n",
       "56     Octonauts: Above & Beyond     s99\n",
       "59           Tayo the Little Bus    s105\n",
       "65                      Sharkdog    s112\n",
       "72   Pororo - The Little Penguin    s125\n",
       "95                    Kid-E-Cats    s154\n",
       "155          Go! Go! Cory Carson    s255\n",
       "157            Mother Goose Club    s264\n",
       "162                    Winx Club    s270\n",
       "164    Fast & Furious Spy Racers    s273"
      ]
     },
     "execution_count": 61,
     "metadata": {},
     "output_type": "execute_result"
    }
   ],
   "source": [
    "from sklearn.metrics.pairwise import cosine_similarity\n",
    "import numpy as np\n",
    "import pandas as pd\n",
    "\n",
    "# Set up genre matrix\n",
    "# Reset index so similarity lookup matches\n",
    "df_titles = df_titles.reset_index(drop=True)\n",
    "\n",
    "# Now it's safe to use row index for similarity lookup\n",
    "genre_cols = df_titles.loc[:, \"Action\":\"Thrillers\"]\n",
    "genre_matrix = genre_cols.to_numpy()\n",
    "similarity_matrix = cosine_similarity(genre_matrix)\n",
    "\n",
    "# Compute cosine similarity across all titles\n",
    "similarity_matrix = cosine_similarity(genre_matrix)\n",
    "\n",
    "# Function: recommend similar movies based on title\n",
    "def recommend_similar(title, top_n=10):\n",
    "    target_row = df_titles[df_titles[\"title\"] == title]\n",
    "    if target_row.empty:\n",
    "        return []\n",
    "    idx = target_row.index[0]\n",
    "    sim_scores = list(enumerate(similarity_matrix[idx]))\n",
    "    sim_scores = sorted(sim_scores, key=lambda x: x[1], reverse=True)\n",
    "    top_indices = [i for i, score in sim_scores[1:top_n+1]]\n",
    "    return df_titles.iloc[top_indices][[\"title\", \"show_id\"]]\n",
    "\n",
    "# Example usage\n",
    "recommend_similar(\"The Super Mario Bros. Super Show!\")"
   ]
  },
  {
   "cell_type": "code",
   "execution_count": 58,
   "id": "95878cb3",
   "metadata": {},
   "outputs": [],
   "source": [
    "def extract_genres(df):\n",
    "    # Columns that are definitely not genres\n",
    "    non_genre_cols = [\n",
    "        'show_id', 'type', 'title', 'cast', 'country',\n",
    "        'release_year', 'rating', 'duration', 'description'\n",
    "    ]\n",
    "\n",
    "    # Get all int64 columns that aren't in non-genre list\n",
    "    genre_cols = [col for col in df.select_dtypes(include='int64').columns if col not in non_genre_cols]\n",
    "\n",
    "    # Combine active genres into a string\n",
    "    df['genres'] = df[genre_cols].apply(\n",
    "        lambda row: ', '.join([col for col in genre_cols if row[col] == 1]), axis=1\n",
    "    )\n",
    "\n",
    "    return df"
   ]
  },
  {
   "cell_type": "code",
   "execution_count": null,
   "id": "83882f79",
   "metadata": {},
   "outputs": [
    {
     "name": "stdout",
     "output_type": "stream",
     "text": [
      "                           title                 genres\n",
      "0           Dick Johnson Is Dead          Documentaries\n",
      "1                  Blood & Water      Dramas, TV Dramas\n",
      "2                   Kota Factory  Comedies, TV Comedies\n",
      "3                        Sankofa                 Dramas\n",
      "4  The Great British Baking Show             Reality TV\n"
     ]
    }
   ],
   "source": [
    "df_titles = extract_genres(df_titles)\n",
    "df_titles.head()"
   ]
  },
  {
   "cell_type": "code",
   "execution_count": 67,
   "id": "58ad1b24",
   "metadata": {},
   "outputs": [],
   "source": [
    "recs = []\n",
    "\n",
    "for idx, row in df_titles.iterrows():\n",
    "    sim_scores = list(enumerate(similarity_matrix[idx]))\n",
    "    sim_scores = sorted(sim_scores, key=lambda x: x[1], reverse=True)[1:11]  # skip itself\n",
    "    for sim_idx, score in sim_scores:\n",
    "        recs.append({\n",
    "            \"show_id\": row[\"show_id\"],\n",
    "            \"recommended_id\": df_titles.iloc[sim_idx][\"show_id\"],\n",
    "            \"genre\": df_titles.iloc[sim_idx][\"genres\"],\n",
    "            \"score\": round(score, 4)\n",
    "        })\n",
    "\n",
    "df_recs = pd.DataFrame(recs)"
   ]
  },
  {
   "cell_type": "code",
   "execution_count": 68,
   "id": "8ec6d43a",
   "metadata": {},
   "outputs": [
    {
     "data": {
      "text/plain": [
       "76130"
      ]
     },
     "execution_count": 68,
     "metadata": {},
     "output_type": "execute_result"
    }
   ],
   "source": [
    "import sqlite3\n",
    "\n",
    "conn = sqlite3.connect(\"movie_recommendations_titles.db\")\n",
    "\n",
    "# Save titles table (optional if already in DB)\n",
    "df_titles.to_sql(\"genres_recs\", conn, if_exists=\"replace\", index=False)\n",
    "\n",
    "# Save the recommendations\n",
    "df_recs.to_sql(\"genre_recommendations\", conn, if_exists=\"replace\", index=False)"
   ]
  },
  {
   "cell_type": "markdown",
   "id": "cd986c5b",
   "metadata": {},
   "source": [
    "### Genre clustering"
   ]
  },
  {
   "cell_type": "code",
   "execution_count": 31,
   "id": "7f8398b5",
   "metadata": {},
   "outputs": [],
   "source": [
    "genre_cols = df_titles.loc[:, \"Action\":\"Thrillers\"]\n",
    "ratings_encoded = pd.get_dummies(df_titles[\"rating\"], prefix=\"rating\")\n",
    "\n",
    "features = pd.concat([genre_cols, ratings_encoded], axis=1)\n",
    "feature_matrix = features.to_numpy()\n",
    "\n",
    "# Step 3: Compute cosine similarity between all titles\n",
    "similarity_matrix = cosine_similarity(feature_matrix)"
   ]
  },
  {
   "cell_type": "code",
   "execution_count": 32,
   "id": "a57d61d4",
   "metadata": {},
   "outputs": [],
   "source": [
    "recs = []\n",
    "\n",
    "for idx, row in df_titles.iterrows():\n",
    "    sim_scores = list(enumerate(similarity_matrix[idx]))\n",
    "    sim_scores = sorted(sim_scores, key=lambda x: x[1], reverse=True)[1:11]  # skip self\n",
    "    for sim_idx, score in sim_scores:\n",
    "        recs.append({\n",
    "            \"show_id\": row[\"show_id\"],\n",
    "            \"recommended_id\": df_titles.iloc[sim_idx][\"show_id\"],\n",
    "            \"score\": round(score, 4)\n",
    "        })\n",
    "\n",
    "df_recs = pd.DataFrame(recs)"
   ]
  },
  {
   "cell_type": "code",
   "execution_count": 33,
   "id": "074fc540",
   "metadata": {},
   "outputs": [],
   "source": [
    "# Connect to SQLite\n",
    "conn = sqlite3.connect(\"movie_recommendations_genres.db\")\n",
    "\n",
    "# Save titles (optional if already saved elsewhere)\n",
    "df_titles.to_sql(\"movies_titles\", conn, if_exists=\"replace\", index=False)\n",
    "\n",
    "# Save recommendations\n",
    "df_recs.to_sql(\"content_recommendations\", conn, if_exists=\"replace\", index=False)\n",
    "\n",
    "conn.close()"
   ]
  },
  {
   "cell_type": "code",
   "execution_count": 34,
   "id": "9acf883d",
   "metadata": {},
   "outputs": [
    {
     "data": {
      "text/plain": [
       "<surprise.prediction_algorithms.matrix_factorization.SVD at 0x129db24e0>"
      ]
     },
     "execution_count": 34,
     "metadata": {},
     "output_type": "execute_result"
    }
   ],
   "source": [
    "from surprise import Dataset, Reader, SVD\n",
    "from surprise.model_selection import train_test_split\n",
    "import pandas as pd\n",
    "\n",
    "# Convert your ratings DataFrame to Surprise format\n",
    "reader = Reader(rating_scale=(1, 5))\n",
    "data = Dataset.load_from_df(df_ratings[[\"user_id\", \"show_id\", \"rating\"]], reader)\n",
    "\n",
    "# Train on the whole set (since it's pre-login)\n",
    "trainset = data.build_full_trainset()\n",
    "model = SVD()\n",
    "model.fit(trainset)"
   ]
  },
  {
   "cell_type": "code",
   "execution_count": 35,
   "id": "4547b4c1",
   "metadata": {},
   "outputs": [],
   "source": [
    "# Get all show_ids\n",
    "all_movie_ids = df_titles[\"show_id\"].unique()\n",
    "\n",
    "# Predict ratings for a dummy user_id (e.g. 'guest')\n",
    "predictions = [(movie_id, model.predict(\"guest\", movie_id).est) for movie_id in all_movie_ids]\n",
    "\n",
    "# Sort by estimated rating\n",
    "top_recs = sorted(predictions, key=lambda x: x[1], reverse=True)[:10]\n",
    "\n",
    "# Join with titles\n",
    "top_movie_ids = [movie_id for movie_id, _ in top_recs]\n",
    "top_titles = df_titles[df_titles[\"show_id\"].isin(top_movie_ids)][[\"title\", \"show_id\"]]"
   ]
  },
  {
   "cell_type": "code",
   "execution_count": 36,
   "id": "a2249af1",
   "metadata": {},
   "outputs": [
    {
     "data": {
      "text/html": [
       "<div>\n",
       "<style scoped>\n",
       "    .dataframe tbody tr th:only-of-type {\n",
       "        vertical-align: middle;\n",
       "    }\n",
       "\n",
       "    .dataframe tbody tr th {\n",
       "        vertical-align: top;\n",
       "    }\n",
       "\n",
       "    .dataframe thead th {\n",
       "        text-align: right;\n",
       "    }\n",
       "</style>\n",
       "<table border=\"1\" class=\"dataframe\">\n",
       "  <thead>\n",
       "    <tr style=\"text-align: right;\">\n",
       "      <th></th>\n",
       "      <th>title</th>\n",
       "      <th>show_id</th>\n",
       "    </tr>\n",
       "  </thead>\n",
       "  <tbody>\n",
       "    <tr>\n",
       "      <th>36</th>\n",
       "      <td>Naruto Shippuden: The Movie: The Lost Tower</td>\n",
       "      <td>s61</td>\n",
       "    </tr>\n",
       "    <tr>\n",
       "      <th>96</th>\n",
       "      <td>Kuroko's Basketball</td>\n",
       "      <td>s155</td>\n",
       "    </tr>\n",
       "    <tr>\n",
       "      <th>692</th>\n",
       "      <td>Durarara!!</td>\n",
       "      <td>s1041</td>\n",
       "    </tr>\n",
       "    <tr>\n",
       "      <th>1533</th>\n",
       "      <td>Challenger</td>\n",
       "      <td>s1991</td>\n",
       "    </tr>\n",
       "    <tr>\n",
       "      <th>2027</th>\n",
       "      <td>Parasyte: The Maxim</td>\n",
       "      <td>s2526</td>\n",
       "    </tr>\n",
       "    <tr>\n",
       "      <th>3292</th>\n",
       "      <td>Traitors</td>\n",
       "      <td>s3970</td>\n",
       "    </tr>\n",
       "    <tr>\n",
       "      <th>4401</th>\n",
       "      <td>Equestria Girls: Tales of Canterlot High</td>\n",
       "      <td>s5238</td>\n",
       "    </tr>\n",
       "    <tr>\n",
       "      <th>4654</th>\n",
       "      <td>Tramps</td>\n",
       "      <td>s5525</td>\n",
       "    </tr>\n",
       "    <tr>\n",
       "      <th>4872</th>\n",
       "      <td>DEATH NOTE</td>\n",
       "      <td>s5752</td>\n",
       "    </tr>\n",
       "    <tr>\n",
       "      <th>5132</th>\n",
       "      <td>A Night at the Roxbury</td>\n",
       "      <td>s6050</td>\n",
       "    </tr>\n",
       "  </tbody>\n",
       "</table>\n",
       "</div>"
      ],
      "text/plain": [
       "                                            title show_id\n",
       "36    Naruto Shippuden: The Movie: The Lost Tower     s61\n",
       "96                            Kuroko's Basketball    s155\n",
       "692                                    Durarara!!   s1041\n",
       "1533                                   Challenger   s1991\n",
       "2027                          Parasyte: The Maxim   s2526\n",
       "3292                                     Traitors   s3970\n",
       "4401     Equestria Girls: Tales of Canterlot High   s5238\n",
       "4654                                       Tramps   s5525\n",
       "4872                                   DEATH NOTE   s5752\n",
       "5132                       A Night at the Roxbury   s6050"
      ]
     },
     "execution_count": 36,
     "metadata": {},
     "output_type": "execute_result"
    }
   ],
   "source": [
    "top_titles"
   ]
  },
  {
   "cell_type": "code",
   "execution_count": 37,
   "id": "d082492c",
   "metadata": {},
   "outputs": [
    {
     "name": "stderr",
     "output_type": "stream",
     "text": [
      "/var/folders/89/ddk09q_13q5dxg5njh_qm7p40000gn/T/ipykernel_87256/2985445882.py:9: SettingWithCopyWarning: \n",
      "A value is trying to be set on a copy of a slice from a DataFrame.\n",
      "Try using .loc[row_indexer,col_indexer] = value instead\n",
      "\n",
      "See the caveats in the documentation: https://pandas.pydata.org/pandas-docs/stable/user_guide/indexing.html#returning-a-view-versus-a-copy\n",
      "  top_df[\"genre\"] = \"TopPicks\"\n"
     ]
    }
   ],
   "source": [
    "guest_recs = []\n",
    "for mid in df_titles[\"show_id\"].unique():\n",
    "    pred = model.predict(\"guest\", mid).est\n",
    "    guest_recs.append((mid, pred))\n",
    "\n",
    "# Top N overall\n",
    "top = sorted(guest_recs, key=lambda x: x[1], reverse=True)[:50]\n",
    "top_df = df_titles[df_titles[\"show_id\"].isin([mid for mid, _ in top])]\n",
    "top_df[\"genre\"] = \"TopPicks\""
   ]
  },
  {
   "cell_type": "code",
   "execution_count": 39,
   "id": "99a829cf",
   "metadata": {},
   "outputs": [],
   "source": [
    "genre_recs = []\n",
    "for genre in [\"Action\", \"Adventure\", \"Children\", \"Comedies\", \"Documentaries\", \"Dramas\", \n",
    " \"Fantasy\", \"Horror Movies\", \"Musicals\", \"Reality TV\", \"Thrillers\"]:\n",
    "    genre_ids = df_titles[df_titles[genre] == 1][\"show_id\"]\n",
    "    genre_top = [r for r in guest_recs if r[0] in genre_ids][:10]\n",
    "    ids = [mid for mid, _ in genre_top]\n",
    "    genre_df = df_titles[df_titles[\"show_id\"].isin(ids)].copy()\n",
    "    genre_df[\"genre\"] = genre\n",
    "    genre_recs.append(genre_df)\n",
    "\n",
    "final_df = pd.concat([top_df] + genre_recs)"
   ]
  },
  {
   "cell_type": "code",
   "execution_count": 41,
   "id": "99ae2951",
   "metadata": {},
   "outputs": [
    {
     "data": {
      "text/plain": [
       "50"
      ]
     },
     "execution_count": 41,
     "metadata": {},
     "output_type": "execute_result"
    }
   ],
   "source": [
    "conn = sqlite3.connect(\"recommendations_collab_b4Logon.db\")\n",
    "final_df[[\"genre\", \"title\", \"show_id\"]].to_sql(\"Recommendations\", conn, if_exists=\"replace\", index=False)"
   ]
  }
 ],
 "metadata": {
  "kernelspec": {
   "display_name": "Python 3",
   "language": "python",
   "name": "python3"
  },
  "language_info": {
   "codemirror_mode": {
    "name": "ipython",
    "version": 3
   },
   "file_extension": ".py",
   "mimetype": "text/x-python",
   "name": "python",
   "nbconvert_exporter": "python",
   "pygments_lexer": "ipython3",
   "version": "3.12.1"
  }
 },
 "nbformat": 4,
 "nbformat_minor": 5
}
