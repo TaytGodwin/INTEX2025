{
 "cells": [
  {
   "cell_type": "markdown",
   "id": "3b18220b",
   "metadata": {},
   "source": [
    "# Continuted.\n",
    "### See the first collabortive.ipynb for data understanding\n",
    "\n",
    "#### Here we import, clean the data based on past understanding\n",
    "#### Then we deploy a database with the matrix for the vectorized content filter. We included both movie title and description to come up with better recommendations"
   ]
  },
  {
   "cell_type": "code",
   "execution_count": 2,
   "id": "b7866a83",
   "metadata": {},
   "outputs": [],
   "source": [
    "# Import\n",
    "import pandas as pd\n",
    "from sklearn.feature_extraction.text import TfidfVectorizer\n",
    "from sklearn.metrics.pairwise import linear_kernel\n",
    "\n",
    "df_ratings = pd.read_csv('movies_ratings.csv')\n",
    "df_titles = pd.read_csv('movies_titles.csv')\n",
    "df_users = pd.read_csv('movies_users.csv')"
   ]
  },
  {
   "cell_type": "code",
   "execution_count": 3,
   "id": "4b0e6d7e",
   "metadata": {},
   "outputs": [
    {
     "data": {
      "text/html": [
       "<div>\n",
       "<style scoped>\n",
       "    .dataframe tbody tr th:only-of-type {\n",
       "        vertical-align: middle;\n",
       "    }\n",
       "\n",
       "    .dataframe tbody tr th {\n",
       "        vertical-align: top;\n",
       "    }\n",
       "\n",
       "    .dataframe thead th {\n",
       "        text-align: right;\n",
       "    }\n",
       "</style>\n",
       "<table border=\"1\" class=\"dataframe\">\n",
       "  <thead>\n",
       "    <tr style=\"text-align: right;\">\n",
       "      <th></th>\n",
       "      <th>show_id</th>\n",
       "      <th>type</th>\n",
       "      <th>title</th>\n",
       "      <th>director</th>\n",
       "      <th>cast</th>\n",
       "      <th>country</th>\n",
       "      <th>release_year</th>\n",
       "      <th>rating</th>\n",
       "      <th>duration</th>\n",
       "      <th>description</th>\n",
       "      <th>...</th>\n",
       "      <th>Language TV Shows</th>\n",
       "      <th>Musicals</th>\n",
       "      <th>Nature TV</th>\n",
       "      <th>Reality TV</th>\n",
       "      <th>Spirituality</th>\n",
       "      <th>TV Action</th>\n",
       "      <th>TV Comedies</th>\n",
       "      <th>TV Dramas</th>\n",
       "      <th>Talk Shows TV Comedies</th>\n",
       "      <th>Thrillers</th>\n",
       "    </tr>\n",
       "  </thead>\n",
       "  <tbody>\n",
       "    <tr>\n",
       "      <th>0</th>\n",
       "      <td>s1</td>\n",
       "      <td>Movie</td>\n",
       "      <td>Dick Johnson Is Dead</td>\n",
       "      <td>Kirsten Johnson</td>\n",
       "      <td>Michael Hilow, Ana Hoffman, Dick Johnson, Kirs...</td>\n",
       "      <td>United States</td>\n",
       "      <td>2020</td>\n",
       "      <td>PG-13</td>\n",
       "      <td>90 min</td>\n",
       "      <td>As her father nears the end of his life filmma...</td>\n",
       "      <td>...</td>\n",
       "      <td>0</td>\n",
       "      <td>0</td>\n",
       "      <td>0</td>\n",
       "      <td>0</td>\n",
       "      <td>0</td>\n",
       "      <td>0</td>\n",
       "      <td>0</td>\n",
       "      <td>0</td>\n",
       "      <td>0</td>\n",
       "      <td>0</td>\n",
       "    </tr>\n",
       "    <tr>\n",
       "      <th>1</th>\n",
       "      <td>s2</td>\n",
       "      <td>TV Show</td>\n",
       "      <td>Blood &amp; Water</td>\n",
       "      <td>NaN</td>\n",
       "      <td>Ama Qamata Khosi Ngema Gail Mabalane Thabang M...</td>\n",
       "      <td>South Africa</td>\n",
       "      <td>2021</td>\n",
       "      <td>TV-MA</td>\n",
       "      <td>2 Seasons</td>\n",
       "      <td>After crossing paths at a party a Cape Town te...</td>\n",
       "      <td>...</td>\n",
       "      <td>0</td>\n",
       "      <td>0</td>\n",
       "      <td>0</td>\n",
       "      <td>0</td>\n",
       "      <td>0</td>\n",
       "      <td>0</td>\n",
       "      <td>0</td>\n",
       "      <td>1</td>\n",
       "      <td>0</td>\n",
       "      <td>0</td>\n",
       "    </tr>\n",
       "    <tr>\n",
       "      <th>2</th>\n",
       "      <td>s3</td>\n",
       "      <td>TV Show</td>\n",
       "      <td>Ganglands</td>\n",
       "      <td>Julien Leclercq</td>\n",
       "      <td>Sami Bouajila Tracy Gotoas Samuel Jouy Nabiha ...</td>\n",
       "      <td>NaN</td>\n",
       "      <td>2021</td>\n",
       "      <td>TV-MA</td>\n",
       "      <td>1 Season</td>\n",
       "      <td>To protect his family from a powerful drug lor...</td>\n",
       "      <td>...</td>\n",
       "      <td>0</td>\n",
       "      <td>0</td>\n",
       "      <td>0</td>\n",
       "      <td>0</td>\n",
       "      <td>0</td>\n",
       "      <td>1</td>\n",
       "      <td>0</td>\n",
       "      <td>0</td>\n",
       "      <td>0</td>\n",
       "      <td>0</td>\n",
       "    </tr>\n",
       "    <tr>\n",
       "      <th>3</th>\n",
       "      <td>s4</td>\n",
       "      <td>TV Show</td>\n",
       "      <td>Jailbirds New Orleans</td>\n",
       "      <td>NaN</td>\n",
       "      <td>NaN</td>\n",
       "      <td>NaN</td>\n",
       "      <td>2021</td>\n",
       "      <td>TV-MA</td>\n",
       "      <td>1 Season</td>\n",
       "      <td>Feuds flirtations and toilet talk go down amon...</td>\n",
       "      <td>...</td>\n",
       "      <td>0</td>\n",
       "      <td>0</td>\n",
       "      <td>0</td>\n",
       "      <td>1</td>\n",
       "      <td>0</td>\n",
       "      <td>0</td>\n",
       "      <td>0</td>\n",
       "      <td>0</td>\n",
       "      <td>0</td>\n",
       "      <td>0</td>\n",
       "    </tr>\n",
       "    <tr>\n",
       "      <th>4</th>\n",
       "      <td>s5</td>\n",
       "      <td>TV Show</td>\n",
       "      <td>Kota Factory</td>\n",
       "      <td>NaN</td>\n",
       "      <td>Mayur More Jitendra Kumar Ranjan Raj Alam Khan...</td>\n",
       "      <td>India</td>\n",
       "      <td>2021</td>\n",
       "      <td>TV-MA</td>\n",
       "      <td>2 Seasons</td>\n",
       "      <td>In a city of coaching centers known to train I...</td>\n",
       "      <td>...</td>\n",
       "      <td>0</td>\n",
       "      <td>0</td>\n",
       "      <td>0</td>\n",
       "      <td>0</td>\n",
       "      <td>0</td>\n",
       "      <td>0</td>\n",
       "      <td>1</td>\n",
       "      <td>0</td>\n",
       "      <td>0</td>\n",
       "      <td>0</td>\n",
       "    </tr>\n",
       "  </tbody>\n",
       "</table>\n",
       "<p>5 rows × 42 columns</p>\n",
       "</div>"
      ],
      "text/plain": [
       "  show_id     type                  title         director  \\\n",
       "0      s1    Movie   Dick Johnson Is Dead  Kirsten Johnson   \n",
       "1      s2  TV Show          Blood & Water              NaN   \n",
       "2      s3  TV Show              Ganglands  Julien Leclercq   \n",
       "3      s4  TV Show  Jailbirds New Orleans              NaN   \n",
       "4      s5  TV Show           Kota Factory              NaN   \n",
       "\n",
       "                                                cast        country  \\\n",
       "0  Michael Hilow, Ana Hoffman, Dick Johnson, Kirs...  United States   \n",
       "1  Ama Qamata Khosi Ngema Gail Mabalane Thabang M...   South Africa   \n",
       "2  Sami Bouajila Tracy Gotoas Samuel Jouy Nabiha ...            NaN   \n",
       "3                                                NaN            NaN   \n",
       "4  Mayur More Jitendra Kumar Ranjan Raj Alam Khan...          India   \n",
       "\n",
       "   release_year rating   duration  \\\n",
       "0          2020  PG-13     90 min   \n",
       "1          2021  TV-MA  2 Seasons   \n",
       "2          2021  TV-MA   1 Season   \n",
       "3          2021  TV-MA   1 Season   \n",
       "4          2021  TV-MA  2 Seasons   \n",
       "\n",
       "                                         description  ...  Language TV Shows  \\\n",
       "0  As her father nears the end of his life filmma...  ...                  0   \n",
       "1  After crossing paths at a party a Cape Town te...  ...                  0   \n",
       "2  To protect his family from a powerful drug lor...  ...                  0   \n",
       "3  Feuds flirtations and toilet talk go down amon...  ...                  0   \n",
       "4  In a city of coaching centers known to train I...  ...                  0   \n",
       "\n",
       "   Musicals  Nature TV  Reality TV  Spirituality  TV Action  TV Comedies  \\\n",
       "0         0          0           0             0          0            0   \n",
       "1         0          0           0             0          0            0   \n",
       "2         0          0           0             0          1            0   \n",
       "3         0          0           1             0          0            0   \n",
       "4         0          0           0             0          0            1   \n",
       "\n",
       "   TV Dramas  Talk Shows TV Comedies  Thrillers  \n",
       "0          0                       0          0  \n",
       "1          1                       0          0  \n",
       "2          0                       0          0  \n",
       "3          0                       0          0  \n",
       "4          0                       0          0  \n",
       "\n",
       "[5 rows x 42 columns]"
      ]
     },
     "execution_count": 3,
     "metadata": {},
     "output_type": "execute_result"
    }
   ],
   "source": [
    "df_titles.head()"
   ]
  },
  {
   "cell_type": "code",
   "execution_count": 4,
   "id": "c79c7ac7",
   "metadata": {},
   "outputs": [],
   "source": [
    "# Explore. (check the collaborative ipynb file for all data exploration and understanding)"
   ]
  },
  {
   "cell_type": "markdown",
   "id": "78a03c71",
   "metadata": {},
   "source": [
    "## Cleaned data by droping director row, and deleting the rest of the rows missing cast or/and country"
   ]
  },
  {
   "cell_type": "code",
   "execution_count": 5,
   "id": "7425d996",
   "metadata": {},
   "outputs": [],
   "source": [
    "# Data Cleaning if needed\n",
    "df_titles.drop('director', axis=1, inplace=True)\n",
    "df_titles.dropna(inplace=True)\n",
    "df_ratings = df_ratings[df_ratings['show_id'].isin(df_titles['show_id'])]\n",
    "# df.reset_index(inplace=True) if id is set as index value before line is ran"
   ]
  },
  {
   "cell_type": "code",
   "execution_count": 6,
   "id": "df5376f2",
   "metadata": {},
   "outputs": [],
   "source": [
    "# Find the common show_ids in both dataframes\n",
    "common_ids = set(df_titles['show_id']).intersection(set(df_ratings['show_id']))\n",
    "\n",
    "# Filter both dataframes to only these common show_ids\n",
    "df_titles = df_titles[df_titles['show_id'].isin(common_ids)]\n",
    "df_ratings = df_ratings[df_ratings['show_id'].isin(common_ids)]"
   ]
  },
  {
   "cell_type": "markdown",
   "id": "eb2e3ce3",
   "metadata": {},
   "source": [
    "## Modeling and evaluation step, based on title and description we made the matrix"
   ]
  },
  {
   "cell_type": "code",
   "execution_count": 7,
   "id": "f28aea45",
   "metadata": {},
   "outputs": [
    {
     "name": "stdout",
     "output_type": "stream",
     "text": [
      "(1592, 8587)\n"
     ]
    }
   ],
   "source": [
    "# Modeling\n",
    "# May need to add our own dictionary\n",
    "# Create a TfidfVectorizer and Remove stopwords\n",
    "tfidf = TfidfVectorizer(stop_words='english')\n",
    "\n",
    "# Fit and transform the data to a tfidf matrix\n",
    "df_titles['combined'] = df_titles['title'] + ' ' + df_titles['description']\n",
    "tfidf_matrix = tfidf.fit_transform(df_titles['combined'])\n",
    "        \n",
    "# Print the shape of the tfidf_matrix\n",
    "print(tfidf_matrix.shape)"
   ]
  },
  {
   "cell_type": "markdown",
   "id": "35b882d5",
   "metadata": {},
   "source": [
    "# Deployment"
   ]
  },
  {
   "cell_type": "code",
   "execution_count": 8,
   "id": "da12180f",
   "metadata": {},
   "outputs": [],
   "source": [
    "# Deployment\n",
    "# Compute the cosine similarity between each movie description\n",
    "cosine_sim = linear_kernel(tfidf_matrix, tfidf_matrix)\n",
    "      \n",
    "# For easier viewing, put it in a dataframe\n",
    "pd.DataFrame(cosine_sim)\n",
    "\n",
    "df_results = pd.DataFrame(cosine_sim, index=df_titles['show_id'], columns=df_titles['show_id']) #.sort_values(by=[0], ascending=False)"
   ]
  },
  {
   "cell_type": "markdown",
   "id": "600e4e60",
   "metadata": {},
   "source": [
    "## Database creation for the content recommendation"
   ]
  },
  {
   "cell_type": "code",
   "execution_count": 9,
   "id": "872ec62a",
   "metadata": {},
   "outputs": [
    {
     "data": {
      "text/plain": [
       "1592"
      ]
     },
     "execution_count": 9,
     "metadata": {},
     "output_type": "execute_result"
    }
   ],
   "source": [
    "from sqlalchemy import create_engine\n",
    "\n",
    "engine = create_engine(\"sqlite:///content_recs.db\")\n",
    "df_results.to_sql('content_recs1', con=engine, if_exists='append', index=True)"
   ]
  },
  {
   "cell_type": "code",
   "execution_count": null,
   "id": "64c71ea7",
   "metadata": {},
   "outputs": [],
   "source": []
  },
  {
   "cell_type": "code",
   "execution_count": null,
   "id": "d8d13a4c",
   "metadata": {},
   "outputs": [],
   "source": []
  }
 ],
 "metadata": {
  "kernelspec": {
   "display_name": "Python 3",
   "language": "python",
   "name": "python3"
  },
  "language_info": {
   "codemirror_mode": {
    "name": "ipython",
    "version": 3
   },
   "file_extension": ".py",
   "mimetype": "text/x-python",
   "name": "python",
   "nbconvert_exporter": "python",
   "pygments_lexer": "ipython3",
   "version": "3.12.1"
  }
 },
 "nbformat": 4,
 "nbformat_minor": 5
}
